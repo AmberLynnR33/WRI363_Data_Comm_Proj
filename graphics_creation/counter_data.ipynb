{
 "cells": [
  {
   "cell_type": "code",
   "execution_count": 3,
   "metadata": {},
   "outputs": [],
   "source": [
    "# imports\n",
    "\n",
    "from mido import Message, MidiFile, MidiTrack\n",
    "import pandas as pd"
   ]
  },
  {
   "cell_type": "code",
   "execution_count": 16,
   "metadata": {},
   "outputs": [
    {
     "name": "stdout",
     "output_type": "stream",
     "text": [
      "116\n"
     ]
    }
   ],
   "source": [
    "# grab data we need\n",
    "pull_data = pd.read_csv(\"../data/WRI363_Pulls_Data.csv\")\n",
    "\n",
    "# if cards are pulled on the same day, we want the music to play all the notes at the same time\n",
    "notes_list = []\n",
    "temp_notes_list = []\n",
    "for i in range(0, pull_data.shape[0] - 1):\n",
    "    to_add = int(pull_data[\"Card_Num\"][i])\n",
    "    if pull_data[\"Date\"][i] == pull_data[\"Date\"][i+1]:\n",
    "        temp_notes_list.append(to_add)\n",
    "    elif not temp_notes_list:\n",
    "        notes_list.append(to_add)\n",
    "    else: # last card in sequence of same dates\n",
    "        temp_notes_list.append(to_add)\n",
    "        notes_list.append(temp_notes_list)\n",
    "        temp_notes_list = []\n",
    "\n",
    "# add last input\n",
    "if not temp_notes_list:\n",
    "    notes_list.append(int(pull_data[\"Card_Num\"][pull_data.shape[0] - 1]))\n",
    "else:\n",
    "    temp_notes_list.append(int(pull_data[\"Card_Num\"][pull_data.shape[0] - 1]))\n",
    "    notes_list.append(temp_notes_list)\n",
    "\n",
    "print(len(notes_list))\n",
    "        "
   ]
  },
  {
   "cell_type": "markdown",
   "metadata": {},
   "source": [
    "We now iterate to create file. Nested lists are notes that should all be played simultaneously! "
   ]
  },
  {
   "cell_type": "code",
   "execution_count": null,
   "metadata": {},
   "outputs": [],
   "source": [
    "#pseudocode for now\n",
    "\n",
    "\"\"\"\n",
    "readjust notes so card 26 is middle C (value 60) -- middle card should be middle C or all the notes will be very low\n",
    "\n",
    "for each element in notes_list:\n",
    "    if an int: \n",
    "        turn the note on and off\n",
    "    if a list\n",
    "        add each note in the list\n",
    "        turn off each note in the list\n",
    "\"\"\""
   ]
  },
  {
   "cell_type": "code",
   "execution_count": null,
   "metadata": {},
   "outputs": [],
   "source": [
    "# \n",
    "duration = 116\n",
    "\n"
   ]
  }
 ],
 "metadata": {
  "kernelspec": {
   "display_name": "Python 3",
   "language": "python",
   "name": "python3"
  },
  "language_info": {
   "codemirror_mode": {
    "name": "ipython",
    "version": 3
   },
   "file_extension": ".py",
   "mimetype": "text/x-python",
   "name": "python",
   "nbconvert_exporter": "python",
   "pygments_lexer": "ipython3",
   "version": "3.10.7"
  }
 },
 "nbformat": 4,
 "nbformat_minor": 2
}
