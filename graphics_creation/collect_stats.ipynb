{
 "cells": [
  {
   "cell_type": "markdown",
   "metadata": {},
   "source": [
    "This file is to just examine the data in the \"data\" folder, \n",
    "to see what data would be interesting to include in the final project."
   ]
  },
  {
   "cell_type": "code",
   "execution_count": 3,
   "metadata": {},
   "outputs": [],
   "source": [
    "# importing packages and data files\n",
    "\n",
    "import pandas as pd\n",
    "import numpy as np\n",
    "\n",
    "loc_pull_data = \"../data/WRI363_Pulls_Data.csv\"\n",
    "loc_card_data = \"../data/WRI363_Oracle_Data.csv\"\n",
    "\n",
    "pull_data = pd.read_csv(loc_pull_data)\n",
    "card_data = pd.read_csv(loc_card_data)\n"
   ]
  },
  {
   "cell_type": "code",
   "execution_count": null,
   "metadata": {},
   "outputs": [],
   "source": [
    "# graphing some basic data\n",
    "\n",
    "card_occurrences = np.bincount(pull_data[\"Card_Num\"])\n",
    "card_data = np.column_stack((card_data, card_occurrences))\n",
    "\n",
    "card_data.plot.bar\n"
   ]
  }
 ],
 "metadata": {
  "kernelspec": {
   "display_name": "Python 3",
   "language": "python",
   "name": "python3"
  },
  "language_info": {
   "codemirror_mode": {
    "name": "ipython",
    "version": 3
   },
   "file_extension": ".py",
   "mimetype": "text/x-python",
   "name": "python",
   "nbconvert_exporter": "python",
   "pygments_lexer": "ipython3",
   "version": "3.10.7"
  }
 },
 "nbformat": 4,
 "nbformat_minor": 2
}
