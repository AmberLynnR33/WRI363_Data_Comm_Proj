{
 "cells": [
  {
   "cell_type": "code",
   "execution_count": 1,
   "metadata": {},
   "outputs": [],
   "source": [
    "# imports\n",
    "\n",
    "from mido import Message, MidiFile, MidiTrack\n",
    "import pandas as pd\n",
    "\n",
    "import sys\n",
    "sys.path.append(\"C:\\\\Users\\\\pmkit\\\\AppData\\\\Roaming\\\\Python\\\\Python313\\\\site-packages\")\n",
    "from midi2audio import FluidSynth"
   ]
  },
  {
   "cell_type": "code",
   "execution_count": 2,
   "metadata": {},
   "outputs": [
    {
     "name": "stdout",
     "output_type": "stream",
     "text": [
      "116\n"
     ]
    }
   ],
   "source": [
    "# grab data we need\n",
    "pull_data = pd.read_csv(\"../datasets/WRI363_Pulls_Data.csv\")\n",
    "\n",
    "# if cards are pulled on the same day, we want the music to play all the notes at the same time\n",
    "notes_list = []\n",
    "temp_notes_list = []\n",
    "for i in range(0, pull_data.shape[0] - 1):\n",
    "    to_add = int(pull_data[\"Card_Num\"][i])\n",
    "    if pull_data[\"Date\"][i] == pull_data[\"Date\"][i+1]:\n",
    "        temp_notes_list.append(to_add)\n",
    "    elif not temp_notes_list:\n",
    "        notes_list.append(to_add)\n",
    "    else: # last card in sequence of same dates\n",
    "        temp_notes_list.append(to_add)\n",
    "        notes_list.append(temp_notes_list)\n",
    "        temp_notes_list = []\n",
    "\n",
    "# add last input\n",
    "if not temp_notes_list:\n",
    "    notes_list.append(int(pull_data[\"Card_Num\"][pull_data.shape[0] - 1]))\n",
    "else:\n",
    "    temp_notes_list.append(int(pull_data[\"Card_Num\"][pull_data.shape[0] - 1]))\n",
    "    notes_list.append(temp_notes_list)\n",
    "\n",
    "print(len(notes_list))\n",
    "        "
   ]
  },
  {
   "cell_type": "markdown",
   "metadata": {},
   "source": [
    "We now iterate to create file. Nested lists are notes that should all be played simultaneously! "
   ]
  },
  {
   "cell_type": "code",
   "execution_count": 3,
   "metadata": {},
   "outputs": [
    {
     "data": {
      "text/plain": [
       "'\\nreadjust notes so card 26 is middle C (value 60) -- middle card should be middle C or all the notes will be very low\\n\\nfor each element in notes_list:\\n    if an int: \\n        turn the note on and off\\n    if a list\\n        add each note in the list\\n        turn off each note in the list\\n'"
      ]
     },
     "execution_count": 3,
     "metadata": {},
     "output_type": "execute_result"
    }
   ],
   "source": [
    "#pseudocode for now\n",
    "\n",
    "\"\"\"\n",
    "readjust notes so card 26 is middle C (value 60) -- middle card should be middle C or all the notes will be very low\n",
    "\n",
    "for each element in notes_list:\n",
    "    if an int: \n",
    "        turn the note on and off\n",
    "    if a list\n",
    "        add each note in the list\n",
    "        turn off each note in the list\n",
    "\"\"\""
   ]
  },
  {
   "cell_type": "code",
   "execution_count": 4,
   "metadata": {},
   "outputs": [],
   "source": [
    "# create MIDI file\n",
    "def create_file(notes, outputFile, tempo):\n",
    "    mid = MidiFile()\n",
    "    track = MidiTrack()\n",
    "    mid.tracks.append(track)\n",
    "\n",
    "    for beat in notes:\n",
    "        if isinstance(beat, int): # single note\n",
    "            track.append(Message('note_on', note=beat, velocity=64, time=0))\n",
    "            track.append(Message('note_off', note=beat, velocity=64, time=tempo))\n",
    "        else: # chord\n",
    "            for card in beat:\n",
    "                track.append(Message('note_on', note=card, velocity=64, time=0))\n",
    "            for card in beat: \n",
    "                track.append(Message('note_off', note=card, velocity=64, time=tempo))\n",
    "\n",
    "    mid.save(outputFile)\n",
    "\n",
    "# shift notes to sound higher pitched\n",
    "def shift_notes(notes, shift):\n",
    "    for i in range(len(notes)):\n",
    "        if isinstance(notes[i], int): # single note\n",
    "            notes[i] += shift\n",
    "        else: # chord\n",
    "            for j in range(len(notes[i])):\n",
    "                notes[i][j] += shift"
   ]
  },
  {
   "cell_type": "code",
   "execution_count": 5,
   "metadata": {},
   "outputs": [],
   "source": [
    "# testing some files...\n",
    "create_file(notes_list, \"test1.mid\", 480)\n",
    "\n",
    "# readjust notes so card 26 is middle C (value 60) -- middle card should be middle C or all the notes will be very low\n",
    "\n",
    "shift_notes(notes_list, 34)\n",
    "create_file(notes_list, \"test2.mid\", 220)\n",
    "\n",
    "# taking test2 because I like this one\n",
    "\n",
    "create_file(notes_list, \"richardson_counterdatapiece.mid\", 220)\n"
   ]
  },
  {
   "cell_type": "markdown",
   "metadata": {},
   "source": [
    "Conversion to .wav was done using Garage Band"
   ]
  }
 ],
 "metadata": {
  "kernelspec": {
   "display_name": "Python 3",
   "language": "python",
   "name": "python3"
  },
  "language_info": {
   "codemirror_mode": {
    "name": "ipython",
    "version": 3
   },
   "file_extension": ".py",
   "mimetype": "text/x-python",
   "name": "python",
   "nbconvert_exporter": "python",
   "pygments_lexer": "ipython3",
   "version": "3.10.7"
  }
 },
 "nbformat": 4,
 "nbformat_minor": 2
}
